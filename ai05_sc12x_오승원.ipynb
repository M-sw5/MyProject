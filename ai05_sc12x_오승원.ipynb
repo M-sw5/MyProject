{
  "nbformat": 4,
  "nbformat_minor": 5,
  "metadata": {
    "kernelspec": {
      "display_name": "Python 3",
      "language": "python",
      "name": "python3"
    },
    "language_info": {
      "codemirror_mode": {
        "name": "ipython",
        "version": 3
      },
      "file_extension": ".py",
      "mimetype": "text/x-python",
      "name": "python",
      "nbconvert_exporter": "python",
      "pygments_lexer": "ipython3",
      "version": "3.8.2"
    },
    "colab": {
      "name": "ai05_sc12x_오승원.ipynb",
      "provenance": [],
      "collapsed_sections": [],
      "include_colab_link": true
    }
  },
  "cells": [
    {
      "cell_type": "markdown",
      "metadata": {
        "id": "view-in-github",
        "colab_type": "text"
      },
      "source": [
        "<a href=\"https://colab.research.google.com/github/M-sw5/MyProject/blob/main/ai05_sc12x_%EC%98%A4%EC%8A%B9%EC%9B%90.ipynb\" target=\"_parent\"><img src=\"https://colab.research.google.com/assets/colab-badge.svg\" alt=\"Open In Colab\"/></a>"
      ]
    },
    {
      "cell_type": "markdown",
      "metadata": {
        "id": "c39839c2-240a-4ae6-b73b-40a7eefae393"
      },
      "source": [
        "# SC12x\n",
        "\n",
        "## 데이터 탐색 및 가설 검정\n",
        "\n",
        "이번 SC 에서 여러분은 가상의 마케팅 데이터를 활용한 통계 분석을 진행하시게 됩니다. \n",
        "\n",
        "## 데이터셋 정보 :   \n",
        "이 데이터셋은 알뜰 구매를 도와주는 XYZ사의 마케팅 정보를 다룹니다. 개인 정보는 보호를 위해 제거 되어 있습니다.\n",
        "\n",
        "**Attribute Information:**\n",
        "> 2,240 customers of XYZ company:\n",
        "\n",
        "- ID - 고객의 고유값\n",
        "- Year_Birth - 고객의 출생연도\n",
        "- Education - 고객의 최종학력\n",
        "- Marital_Status - 고객의 혼인여부\n",
        "- Country - 고객의 국적\n",
        "- Income - 고객의 연간 수입\n",
        "- Kidhome - 자녀가 미취학아동인지 여부 (1 - yes, 0 - no)\n",
        "- Teenhome - 자녀가 10대 청소년인지 여부 (1 - yes, 0 - no)\n",
        "- Dt_Customer - 서비스 가입 시기\n",
        "- Recency - 마지막 구매 시기 (일)\n",
        "- MntWines - 최근 2년간 구매한 와인 구매 총액\n",
        "- MntFruits- 최근 2년간 구매한 과일 구매 총액\n",
        "- MntMeatProducts - 최근 2년간 구매한 정육 구매 총액\n",
        "- MntFishProducts - 최근 2년간 구매한 어류 구매 총액\n",
        "- MntSweetProducts - 최근 2년간 구매한 과자 구매 총액\n",
        "- MntGoldProds - 최근 2년간 구매한 황금 구매 총액\n",
        "- NumDealsPurchases - 할인을 통해 제품을 구매한 횟수\n",
        "- NumWebPurchases - 회사의 웹사이트를 통해 구매한 횟수\n",
        "- NumStorePurchases - 가게에서 직접 구매한 횟수\n",
        "- NumWebVisitsMonth - 회사의 웹사이트를 방문한 횟수\n",
        "- Complain - 고객의 최근 2년간 회사에 대한 클레임 여부 (1 - yes, 0 - no)"
      ],
      "id": "c39839c2-240a-4ae6-b73b-40a7eefae393"
    },
    {
      "cell_type": "markdown",
      "metadata": {
        "id": "980a3d4b-3c4f-4b0b-bccb-304550e6651d"
      },
      "source": [
        "## Part 1 - 데이터 불러오기"
      ],
      "id": "980a3d4b-3c4f-4b0b-bccb-304550e6651d"
    },
    {
      "cell_type": "markdown",
      "metadata": {
        "id": "3ae7e642-06e6-474c-b7b1-5894f303cab0"
      },
      "source": [
        "### 1) 데이터셋을 업로드합니다"
      ],
      "id": "3ae7e642-06e6-474c-b7b1-5894f303cab0"
    },
    {
      "cell_type": "code",
      "metadata": {
        "colab": {
          "base_uri": "https://localhost:8080/",
          "height": 224
        },
        "id": "a80eed92-08da-47d1-b5d8-106ab899bd41",
        "outputId": "9740d51d-7d4a-466a-845d-b4804b871163"
      },
      "source": [
        "# 이 곳에 답안을 작성하십시오\n",
        "import pandas as pd\n",
        "df = pd.read_csv(\"sc12x_dataset.csv\" ,index_col=0)\n",
        "df.head()"
      ],
      "id": "a80eed92-08da-47d1-b5d8-106ab899bd41",
      "execution_count": 6,
      "outputs": [
        {
          "output_type": "execute_result",
          "data": {
            "text/html": [
              "<div>\n",
              "<style scoped>\n",
              "    .dataframe tbody tr th:only-of-type {\n",
              "        vertical-align: middle;\n",
              "    }\n",
              "\n",
              "    .dataframe tbody tr th {\n",
              "        vertical-align: top;\n",
              "    }\n",
              "\n",
              "    .dataframe thead th {\n",
              "        text-align: right;\n",
              "    }\n",
              "</style>\n",
              "<table border=\"1\" class=\"dataframe\">\n",
              "  <thead>\n",
              "    <tr style=\"text-align: right;\">\n",
              "      <th></th>\n",
              "      <th>ID</th>\n",
              "      <th>Year_Birth</th>\n",
              "      <th>Country</th>\n",
              "      <th>Education</th>\n",
              "      <th>Marital_Status</th>\n",
              "      <th>Income</th>\n",
              "      <th>Kidhome</th>\n",
              "      <th>Teenhome</th>\n",
              "      <th>Dt_Customer</th>\n",
              "      <th>Recency</th>\n",
              "      <th>MntWines</th>\n",
              "      <th>MntFruits</th>\n",
              "      <th>MntMeatProducts</th>\n",
              "      <th>MntFishProducts</th>\n",
              "      <th>MntSweetProducts</th>\n",
              "      <th>MntGoldProds</th>\n",
              "      <th>NumDealsPurchases</th>\n",
              "      <th>NumWebPurchases</th>\n",
              "      <th>NumStorePurchases</th>\n",
              "      <th>NumWebVisitsMonth</th>\n",
              "      <th>Complain</th>\n",
              "    </tr>\n",
              "  </thead>\n",
              "  <tbody>\n",
              "    <tr>\n",
              "      <th>0</th>\n",
              "      <td>1826</td>\n",
              "      <td>1970</td>\n",
              "      <td>SP</td>\n",
              "      <td>Graduation</td>\n",
              "      <td>Divorced</td>\n",
              "      <td>$84,835.00</td>\n",
              "      <td>0</td>\n",
              "      <td>0</td>\n",
              "      <td>6/16/14</td>\n",
              "      <td>0</td>\n",
              "      <td>189</td>\n",
              "      <td>104</td>\n",
              "      <td>379</td>\n",
              "      <td>111</td>\n",
              "      <td>189</td>\n",
              "      <td>218</td>\n",
              "      <td>1</td>\n",
              "      <td>4</td>\n",
              "      <td>6</td>\n",
              "      <td>1</td>\n",
              "      <td>0</td>\n",
              "    </tr>\n",
              "    <tr>\n",
              "      <th>1</th>\n",
              "      <td>1</td>\n",
              "      <td>1961</td>\n",
              "      <td>CA</td>\n",
              "      <td>Graduation</td>\n",
              "      <td>Single</td>\n",
              "      <td>$57,091.00</td>\n",
              "      <td>0</td>\n",
              "      <td>0</td>\n",
              "      <td>6/15/14</td>\n",
              "      <td>0</td>\n",
              "      <td>464</td>\n",
              "      <td>5</td>\n",
              "      <td>64</td>\n",
              "      <td>7</td>\n",
              "      <td>0</td>\n",
              "      <td>37</td>\n",
              "      <td>1</td>\n",
              "      <td>7</td>\n",
              "      <td>7</td>\n",
              "      <td>5</td>\n",
              "      <td>0</td>\n",
              "    </tr>\n",
              "    <tr>\n",
              "      <th>2</th>\n",
              "      <td>10476</td>\n",
              "      <td>1958</td>\n",
              "      <td>US</td>\n",
              "      <td>Graduation</td>\n",
              "      <td>Married</td>\n",
              "      <td>$67,267.00</td>\n",
              "      <td>0</td>\n",
              "      <td>1</td>\n",
              "      <td>5/13/14</td>\n",
              "      <td>0</td>\n",
              "      <td>134</td>\n",
              "      <td>11</td>\n",
              "      <td>59</td>\n",
              "      <td>15</td>\n",
              "      <td>2</td>\n",
              "      <td>30</td>\n",
              "      <td>1</td>\n",
              "      <td>3</td>\n",
              "      <td>5</td>\n",
              "      <td>2</td>\n",
              "      <td>0</td>\n",
              "    </tr>\n",
              "    <tr>\n",
              "      <th>3</th>\n",
              "      <td>1386</td>\n",
              "      <td>1967</td>\n",
              "      <td>AUS</td>\n",
              "      <td>Graduation</td>\n",
              "      <td>Together</td>\n",
              "      <td>$32,474.00</td>\n",
              "      <td>1</td>\n",
              "      <td>1</td>\n",
              "      <td>5/11/14</td>\n",
              "      <td>0</td>\n",
              "      <td>10</td>\n",
              "      <td>0</td>\n",
              "      <td>1</td>\n",
              "      <td>0</td>\n",
              "      <td>0</td>\n",
              "      <td>0</td>\n",
              "      <td>1</td>\n",
              "      <td>1</td>\n",
              "      <td>2</td>\n",
              "      <td>7</td>\n",
              "      <td>0</td>\n",
              "    </tr>\n",
              "    <tr>\n",
              "      <th>4</th>\n",
              "      <td>5371</td>\n",
              "      <td>1989</td>\n",
              "      <td>SP</td>\n",
              "      <td>Graduation</td>\n",
              "      <td>Single</td>\n",
              "      <td>$21,474.00</td>\n",
              "      <td>1</td>\n",
              "      <td>0</td>\n",
              "      <td>4/8/14</td>\n",
              "      <td>0</td>\n",
              "      <td>6</td>\n",
              "      <td>16</td>\n",
              "      <td>24</td>\n",
              "      <td>11</td>\n",
              "      <td>0</td>\n",
              "      <td>34</td>\n",
              "      <td>2</td>\n",
              "      <td>3</td>\n",
              "      <td>2</td>\n",
              "      <td>7</td>\n",
              "      <td>0</td>\n",
              "    </tr>\n",
              "  </tbody>\n",
              "</table>\n",
              "</div>"
            ],
            "text/plain": [
              "      ID  Year_Birth Country  ... NumStorePurchases NumWebVisitsMonth Complain\n",
              "0   1826        1970      SP  ...                 6                 1        0\n",
              "1      1        1961      CA  ...                 7                 5        0\n",
              "2  10476        1958      US  ...                 5                 2        0\n",
              "3   1386        1967     AUS  ...                 2                 7        0\n",
              "4   5371        1989      SP  ...                 2                 7        0\n",
              "\n",
              "[5 rows x 21 columns]"
            ]
          },
          "metadata": {
            "tags": []
          },
          "execution_count": 6
        }
      ]
    },
    {
      "cell_type": "markdown",
      "metadata": {
        "id": "3fd217d1-44f8-4d1b-9dfb-2256256c0329"
      },
      "source": [
        "### 2) 결측치가 있는지 확인한 후 있다면 제거하세요"
      ],
      "id": "3fd217d1-44f8-4d1b-9dfb-2256256c0329"
    },
    {
      "cell_type": "code",
      "metadata": {
        "colab": {
          "base_uri": "https://localhost:8080/"
        },
        "id": "CqNMf0u9e1_j",
        "outputId": "9f0c6ce5-062c-4a34-992f-903bd17d2a59"
      },
      "source": [
        "# 이 곳에 답안을 작성하십시오\n",
        "\n",
        "df.isna().sum()"
      ],
      "id": "CqNMf0u9e1_j",
      "execution_count": 7,
      "outputs": [
        {
          "output_type": "execute_result",
          "data": {
            "text/plain": [
              "ID                    0\n",
              "Year_Birth            0\n",
              "Country               0\n",
              "Education             0\n",
              "Marital_Status        0\n",
              " Income              24\n",
              "Kidhome               0\n",
              "Teenhome              0\n",
              "Dt_Customer           0\n",
              "Recency               0\n",
              "MntWines              0\n",
              "MntFruits             0\n",
              "MntMeatProducts       0\n",
              "MntFishProducts       0\n",
              "MntSweetProducts      0\n",
              "MntGoldProds          0\n",
              "NumDealsPurchases     0\n",
              "NumWebPurchases       0\n",
              "NumStorePurchases     0\n",
              "NumWebVisitsMonth     0\n",
              "Complain              0\n",
              "dtype: int64"
            ]
          },
          "metadata": {
            "tags": []
          },
          "execution_count": 7
        }
      ]
    },
    {
      "cell_type": "code",
      "metadata": {
        "colab": {
          "base_uri": "https://localhost:8080/"
        },
        "id": "5L-FRKIde639",
        "outputId": "3a799e1d-c2de-4aa8-fbe1-d0efa43af85c"
      },
      "source": [
        "df.shape"
      ],
      "id": "5L-FRKIde639",
      "execution_count": 8,
      "outputs": [
        {
          "output_type": "execute_result",
          "data": {
            "text/plain": [
              "(2240, 21)"
            ]
          },
          "metadata": {
            "tags": []
          },
          "execution_count": 8
        }
      ]
    },
    {
      "cell_type": "code",
      "metadata": {
        "id": "D85RiSQTfDjE"
      },
      "source": [
        "df.dropna(inplace = True)"
      ],
      "id": "D85RiSQTfDjE",
      "execution_count": 11,
      "outputs": []
    },
    {
      "cell_type": "code",
      "metadata": {
        "colab": {
          "base_uri": "https://localhost:8080/"
        },
        "id": "N08_u-NIfH28",
        "outputId": "9df15b45-e355-41e4-c648-870d405d78db"
      },
      "source": [
        "df.shape"
      ],
      "id": "N08_u-NIfH28",
      "execution_count": 12,
      "outputs": [
        {
          "output_type": "execute_result",
          "data": {
            "text/plain": [
              "(2216, 21)"
            ]
          },
          "metadata": {
            "tags": []
          },
          "execution_count": 12
        }
      ]
    },
    {
      "cell_type": "markdown",
      "metadata": {
        "id": "b5affff0-6353-4176-811e-0a167ea2678c"
      },
      "source": [
        "### 3) 아래의 특성들을 만드세요\n",
        "\n",
        "1. **TotalMntProducts** - 최근 2년간 구매한 모든 제품 가격들을 합한 값을 가진 계산한 특성입니다\n",
        "\n",
        "2. **TotalNumPurchases** - 구매횟수를 모두 합친 값을 가진 특성입니다\n",
        "\n",
        "3. **DaysSinceJoined** - 오늘 날짜를 기준으로 가입한 기간을 보여주는 특성입니다 \n",
        "\n",
        "4. **VIP** - 누적 구매 금액이 $2,000 이상을 넘고, 오늘을 기준으로 가입기간이 5년 이상이 된다면 1, 아니면 0의 값을 가진 칼럼을 만듭니다"
      ],
      "id": "b5affff0-6353-4176-811e-0a167ea2678c"
    },
    {
      "cell_type": "code",
      "metadata": {
        "id": "_010FlrZkryN",
        "colab": {
          "base_uri": "https://localhost:8080/"
        },
        "outputId": "b506501c-98c3-4d02-8556-bf18f9b07299"
      },
      "source": [
        "# 답안 작성은 이 곳에 하십시오\n",
        "\n",
        "df.columns\n"
      ],
      "id": "_010FlrZkryN",
      "execution_count": 13,
      "outputs": [
        {
          "output_type": "execute_result",
          "data": {
            "text/plain": [
              "Index(['ID', 'Year_Birth', 'Country', 'Education', 'Marital_Status',\n",
              "       ' Income ', 'Kidhome', 'Teenhome', 'Dt_Customer', 'Recency', 'MntWines',\n",
              "       'MntFruits', 'MntMeatProducts', 'MntFishProducts', 'MntSweetProducts',\n",
              "       'MntGoldProds', 'NumDealsPurchases', 'NumWebPurchases',\n",
              "       'NumStorePurchases', 'NumWebVisitsMonth', 'Complain'],\n",
              "      dtype='object')"
            ]
          },
          "metadata": {
            "tags": []
          },
          "execution_count": 13
        }
      ]
    },
    {
      "cell_type": "code",
      "metadata": {
        "id": "3WaycvBUf1an"
      },
      "source": [
        "df['TotalMntProducts'] = df[(['MntWines','MntFruits','MntMeatProducts','MntFishProducts', 'MntSweetProducts', 'MntGoldProds'])].sum(axis=1)\n",
        "df['TotalNumPurchases'] = df[(['NumDealsPurchases', 'NumWebPurchases','NumStorePurchases'])].sum(axis=1)"
      ],
      "id": "3WaycvBUf1an",
      "execution_count": 24,
      "outputs": []
    },
    {
      "cell_type": "code",
      "metadata": {
        "colab": {
          "base_uri": "https://localhost:8080/",
          "height": 224
        },
        "id": "uHuFJwSHg25W",
        "outputId": "1158c5cf-3c5c-4132-a6e9-6a535b27140e"
      },
      "source": [
        "df.head()"
      ],
      "id": "uHuFJwSHg25W",
      "execution_count": 25,
      "outputs": [
        {
          "output_type": "execute_result",
          "data": {
            "text/html": [
              "<div>\n",
              "<style scoped>\n",
              "    .dataframe tbody tr th:only-of-type {\n",
              "        vertical-align: middle;\n",
              "    }\n",
              "\n",
              "    .dataframe tbody tr th {\n",
              "        vertical-align: top;\n",
              "    }\n",
              "\n",
              "    .dataframe thead th {\n",
              "        text-align: right;\n",
              "    }\n",
              "</style>\n",
              "<table border=\"1\" class=\"dataframe\">\n",
              "  <thead>\n",
              "    <tr style=\"text-align: right;\">\n",
              "      <th></th>\n",
              "      <th>ID</th>\n",
              "      <th>Year_Birth</th>\n",
              "      <th>Country</th>\n",
              "      <th>Education</th>\n",
              "      <th>Marital_Status</th>\n",
              "      <th>Income</th>\n",
              "      <th>Kidhome</th>\n",
              "      <th>Teenhome</th>\n",
              "      <th>Dt_Customer</th>\n",
              "      <th>Recency</th>\n",
              "      <th>MntWines</th>\n",
              "      <th>MntFruits</th>\n",
              "      <th>MntMeatProducts</th>\n",
              "      <th>MntFishProducts</th>\n",
              "      <th>MntSweetProducts</th>\n",
              "      <th>MntGoldProds</th>\n",
              "      <th>NumDealsPurchases</th>\n",
              "      <th>NumWebPurchases</th>\n",
              "      <th>NumStorePurchases</th>\n",
              "      <th>NumWebVisitsMonth</th>\n",
              "      <th>Complain</th>\n",
              "      <th>TotalMntProducts</th>\n",
              "      <th>TotalNumPurchases</th>\n",
              "    </tr>\n",
              "  </thead>\n",
              "  <tbody>\n",
              "    <tr>\n",
              "      <th>0</th>\n",
              "      <td>1826</td>\n",
              "      <td>1970</td>\n",
              "      <td>SP</td>\n",
              "      <td>Graduation</td>\n",
              "      <td>Divorced</td>\n",
              "      <td>$84,835.00</td>\n",
              "      <td>0</td>\n",
              "      <td>0</td>\n",
              "      <td>6/16/14</td>\n",
              "      <td>0</td>\n",
              "      <td>189</td>\n",
              "      <td>104</td>\n",
              "      <td>379</td>\n",
              "      <td>111</td>\n",
              "      <td>189</td>\n",
              "      <td>218</td>\n",
              "      <td>1</td>\n",
              "      <td>4</td>\n",
              "      <td>6</td>\n",
              "      <td>1</td>\n",
              "      <td>0</td>\n",
              "      <td>1190</td>\n",
              "      <td>11</td>\n",
              "    </tr>\n",
              "    <tr>\n",
              "      <th>1</th>\n",
              "      <td>1</td>\n",
              "      <td>1961</td>\n",
              "      <td>CA</td>\n",
              "      <td>Graduation</td>\n",
              "      <td>Single</td>\n",
              "      <td>$57,091.00</td>\n",
              "      <td>0</td>\n",
              "      <td>0</td>\n",
              "      <td>6/15/14</td>\n",
              "      <td>0</td>\n",
              "      <td>464</td>\n",
              "      <td>5</td>\n",
              "      <td>64</td>\n",
              "      <td>7</td>\n",
              "      <td>0</td>\n",
              "      <td>37</td>\n",
              "      <td>1</td>\n",
              "      <td>7</td>\n",
              "      <td>7</td>\n",
              "      <td>5</td>\n",
              "      <td>0</td>\n",
              "      <td>577</td>\n",
              "      <td>15</td>\n",
              "    </tr>\n",
              "    <tr>\n",
              "      <th>2</th>\n",
              "      <td>10476</td>\n",
              "      <td>1958</td>\n",
              "      <td>US</td>\n",
              "      <td>Graduation</td>\n",
              "      <td>Married</td>\n",
              "      <td>$67,267.00</td>\n",
              "      <td>0</td>\n",
              "      <td>1</td>\n",
              "      <td>5/13/14</td>\n",
              "      <td>0</td>\n",
              "      <td>134</td>\n",
              "      <td>11</td>\n",
              "      <td>59</td>\n",
              "      <td>15</td>\n",
              "      <td>2</td>\n",
              "      <td>30</td>\n",
              "      <td>1</td>\n",
              "      <td>3</td>\n",
              "      <td>5</td>\n",
              "      <td>2</td>\n",
              "      <td>0</td>\n",
              "      <td>251</td>\n",
              "      <td>9</td>\n",
              "    </tr>\n",
              "    <tr>\n",
              "      <th>3</th>\n",
              "      <td>1386</td>\n",
              "      <td>1967</td>\n",
              "      <td>AUS</td>\n",
              "      <td>Graduation</td>\n",
              "      <td>Together</td>\n",
              "      <td>$32,474.00</td>\n",
              "      <td>1</td>\n",
              "      <td>1</td>\n",
              "      <td>5/11/14</td>\n",
              "      <td>0</td>\n",
              "      <td>10</td>\n",
              "      <td>0</td>\n",
              "      <td>1</td>\n",
              "      <td>0</td>\n",
              "      <td>0</td>\n",
              "      <td>0</td>\n",
              "      <td>1</td>\n",
              "      <td>1</td>\n",
              "      <td>2</td>\n",
              "      <td>7</td>\n",
              "      <td>0</td>\n",
              "      <td>11</td>\n",
              "      <td>4</td>\n",
              "    </tr>\n",
              "    <tr>\n",
              "      <th>4</th>\n",
              "      <td>5371</td>\n",
              "      <td>1989</td>\n",
              "      <td>SP</td>\n",
              "      <td>Graduation</td>\n",
              "      <td>Single</td>\n",
              "      <td>$21,474.00</td>\n",
              "      <td>1</td>\n",
              "      <td>0</td>\n",
              "      <td>4/8/14</td>\n",
              "      <td>0</td>\n",
              "      <td>6</td>\n",
              "      <td>16</td>\n",
              "      <td>24</td>\n",
              "      <td>11</td>\n",
              "      <td>0</td>\n",
              "      <td>34</td>\n",
              "      <td>2</td>\n",
              "      <td>3</td>\n",
              "      <td>2</td>\n",
              "      <td>7</td>\n",
              "      <td>0</td>\n",
              "      <td>91</td>\n",
              "      <td>7</td>\n",
              "    </tr>\n",
              "  </tbody>\n",
              "</table>\n",
              "</div>"
            ],
            "text/plain": [
              "      ID  Year_Birth Country  ... Complain TotalMntProducts TotalNumPurchases\n",
              "0   1826        1970      SP  ...        0             1190                11\n",
              "1      1        1961      CA  ...        0              577                15\n",
              "2  10476        1958      US  ...        0              251                 9\n",
              "3   1386        1967     AUS  ...        0               11                 4\n",
              "4   5371        1989      SP  ...        0               91                 7\n",
              "\n",
              "[5 rows x 23 columns]"
            ]
          },
          "metadata": {
            "tags": []
          },
          "execution_count": 25
        }
      ]
    },
    {
      "cell_type": "code",
      "metadata": {
        "id": "eSoZAMWUoRRw"
      },
      "source": [
        "df['Dt_Customer']= pd.to_datetime(df['Dt_Customer'])\n",
        "df['DaysSinceJoined'] = (pd.Timestamp.today()) - df['Dt_Customer']"
      ],
      "id": "eSoZAMWUoRRw",
      "execution_count": 33,
      "outputs": []
    },
    {
      "cell_type": "code",
      "metadata": {
        "colab": {
          "base_uri": "https://localhost:8080/",
          "height": 309
        },
        "id": "7dPRo081i5a_",
        "outputId": "13f67f81-3827-45d0-88fa-83720b6c9c88"
      },
      "source": [
        "df.head()"
      ],
      "id": "7dPRo081i5a_",
      "execution_count": 34,
      "outputs": [
        {
          "output_type": "execute_result",
          "data": {
            "text/html": [
              "<div>\n",
              "<style scoped>\n",
              "    .dataframe tbody tr th:only-of-type {\n",
              "        vertical-align: middle;\n",
              "    }\n",
              "\n",
              "    .dataframe tbody tr th {\n",
              "        vertical-align: top;\n",
              "    }\n",
              "\n",
              "    .dataframe thead th {\n",
              "        text-align: right;\n",
              "    }\n",
              "</style>\n",
              "<table border=\"1\" class=\"dataframe\">\n",
              "  <thead>\n",
              "    <tr style=\"text-align: right;\">\n",
              "      <th></th>\n",
              "      <th>ID</th>\n",
              "      <th>Year_Birth</th>\n",
              "      <th>Country</th>\n",
              "      <th>Education</th>\n",
              "      <th>Marital_Status</th>\n",
              "      <th>Income</th>\n",
              "      <th>Kidhome</th>\n",
              "      <th>Teenhome</th>\n",
              "      <th>Dt_Customer</th>\n",
              "      <th>Recency</th>\n",
              "      <th>MntWines</th>\n",
              "      <th>MntFruits</th>\n",
              "      <th>MntMeatProducts</th>\n",
              "      <th>MntFishProducts</th>\n",
              "      <th>MntSweetProducts</th>\n",
              "      <th>MntGoldProds</th>\n",
              "      <th>NumDealsPurchases</th>\n",
              "      <th>NumWebPurchases</th>\n",
              "      <th>NumStorePurchases</th>\n",
              "      <th>NumWebVisitsMonth</th>\n",
              "      <th>Complain</th>\n",
              "      <th>TotalMntProducts</th>\n",
              "      <th>TotalNumPurchases</th>\n",
              "      <th>DatysSinceJoined</th>\n",
              "      <th>DaysSinceJoined</th>\n",
              "    </tr>\n",
              "  </thead>\n",
              "  <tbody>\n",
              "    <tr>\n",
              "      <th>0</th>\n",
              "      <td>1826</td>\n",
              "      <td>1970</td>\n",
              "      <td>SP</td>\n",
              "      <td>Graduation</td>\n",
              "      <td>Divorced</td>\n",
              "      <td>$84,835.00</td>\n",
              "      <td>0</td>\n",
              "      <td>0</td>\n",
              "      <td>2014-06-16</td>\n",
              "      <td>0</td>\n",
              "      <td>189</td>\n",
              "      <td>104</td>\n",
              "      <td>379</td>\n",
              "      <td>111</td>\n",
              "      <td>189</td>\n",
              "      <td>218</td>\n",
              "      <td>1</td>\n",
              "      <td>4</td>\n",
              "      <td>6</td>\n",
              "      <td>1</td>\n",
              "      <td>0</td>\n",
              "      <td>1190</td>\n",
              "      <td>11</td>\n",
              "      <td>2608 days 05:28:09.682452</td>\n",
              "      <td>2608 days 05:46:20.531396</td>\n",
              "    </tr>\n",
              "    <tr>\n",
              "      <th>1</th>\n",
              "      <td>1</td>\n",
              "      <td>1961</td>\n",
              "      <td>CA</td>\n",
              "      <td>Graduation</td>\n",
              "      <td>Single</td>\n",
              "      <td>$57,091.00</td>\n",
              "      <td>0</td>\n",
              "      <td>0</td>\n",
              "      <td>2014-06-15</td>\n",
              "      <td>0</td>\n",
              "      <td>464</td>\n",
              "      <td>5</td>\n",
              "      <td>64</td>\n",
              "      <td>7</td>\n",
              "      <td>0</td>\n",
              "      <td>37</td>\n",
              "      <td>1</td>\n",
              "      <td>7</td>\n",
              "      <td>7</td>\n",
              "      <td>5</td>\n",
              "      <td>0</td>\n",
              "      <td>577</td>\n",
              "      <td>15</td>\n",
              "      <td>2609 days 05:28:09.682452</td>\n",
              "      <td>2609 days 05:46:20.531396</td>\n",
              "    </tr>\n",
              "    <tr>\n",
              "      <th>2</th>\n",
              "      <td>10476</td>\n",
              "      <td>1958</td>\n",
              "      <td>US</td>\n",
              "      <td>Graduation</td>\n",
              "      <td>Married</td>\n",
              "      <td>$67,267.00</td>\n",
              "      <td>0</td>\n",
              "      <td>1</td>\n",
              "      <td>2014-05-13</td>\n",
              "      <td>0</td>\n",
              "      <td>134</td>\n",
              "      <td>11</td>\n",
              "      <td>59</td>\n",
              "      <td>15</td>\n",
              "      <td>2</td>\n",
              "      <td>30</td>\n",
              "      <td>1</td>\n",
              "      <td>3</td>\n",
              "      <td>5</td>\n",
              "      <td>2</td>\n",
              "      <td>0</td>\n",
              "      <td>251</td>\n",
              "      <td>9</td>\n",
              "      <td>2642 days 05:28:09.682452</td>\n",
              "      <td>2642 days 05:46:20.531396</td>\n",
              "    </tr>\n",
              "    <tr>\n",
              "      <th>3</th>\n",
              "      <td>1386</td>\n",
              "      <td>1967</td>\n",
              "      <td>AUS</td>\n",
              "      <td>Graduation</td>\n",
              "      <td>Together</td>\n",
              "      <td>$32,474.00</td>\n",
              "      <td>1</td>\n",
              "      <td>1</td>\n",
              "      <td>2014-05-11</td>\n",
              "      <td>0</td>\n",
              "      <td>10</td>\n",
              "      <td>0</td>\n",
              "      <td>1</td>\n",
              "      <td>0</td>\n",
              "      <td>0</td>\n",
              "      <td>0</td>\n",
              "      <td>1</td>\n",
              "      <td>1</td>\n",
              "      <td>2</td>\n",
              "      <td>7</td>\n",
              "      <td>0</td>\n",
              "      <td>11</td>\n",
              "      <td>4</td>\n",
              "      <td>2644 days 05:28:09.682452</td>\n",
              "      <td>2644 days 05:46:20.531396</td>\n",
              "    </tr>\n",
              "    <tr>\n",
              "      <th>4</th>\n",
              "      <td>5371</td>\n",
              "      <td>1989</td>\n",
              "      <td>SP</td>\n",
              "      <td>Graduation</td>\n",
              "      <td>Single</td>\n",
              "      <td>$21,474.00</td>\n",
              "      <td>1</td>\n",
              "      <td>0</td>\n",
              "      <td>2014-04-08</td>\n",
              "      <td>0</td>\n",
              "      <td>6</td>\n",
              "      <td>16</td>\n",
              "      <td>24</td>\n",
              "      <td>11</td>\n",
              "      <td>0</td>\n",
              "      <td>34</td>\n",
              "      <td>2</td>\n",
              "      <td>3</td>\n",
              "      <td>2</td>\n",
              "      <td>7</td>\n",
              "      <td>0</td>\n",
              "      <td>91</td>\n",
              "      <td>7</td>\n",
              "      <td>2677 days 05:28:09.682452</td>\n",
              "      <td>2677 days 05:46:20.531396</td>\n",
              "    </tr>\n",
              "  </tbody>\n",
              "</table>\n",
              "</div>"
            ],
            "text/plain": [
              "      ID  Year_Birth  ...          DatysSinceJoined           DaysSinceJoined\n",
              "0   1826        1970  ... 2608 days 05:28:09.682452 2608 days 05:46:20.531396\n",
              "1      1        1961  ... 2609 days 05:28:09.682452 2609 days 05:46:20.531396\n",
              "2  10476        1958  ... 2642 days 05:28:09.682452 2642 days 05:46:20.531396\n",
              "3   1386        1967  ... 2644 days 05:28:09.682452 2644 days 05:46:20.531396\n",
              "4   5371        1989  ... 2677 days 05:28:09.682452 2677 days 05:46:20.531396\n",
              "\n",
              "[5 rows x 25 columns]"
            ]
          },
          "metadata": {
            "tags": []
          },
          "execution_count": 34
        }
      ]
    },
    {
      "cell_type": "code",
      "metadata": {
        "colab": {
          "base_uri": "https://localhost:8080/",
          "height": 309
        },
        "id": "U_mBjmCW-k0W",
        "outputId": "862dbb50-af46-4e1d-c69a-6d5538eb37ee"
      },
      "source": [
        "df.loc[((df['TotalMntProducts'] >= 2000) & (df[\"DaysSinceJoined\"] >= pd.Timedelta(\"1825 days\"))), 'VIP'] = 1\n",
        "df.loc[~((df['TotalMntProducts'] >= 2000) & (df[\"DaysSinceJoined\"] >= pd.Timedelta(\"1825 days\"))), 'VIP'] = 0\n",
        "df.head()"
      ],
      "id": "U_mBjmCW-k0W",
      "execution_count": 40,
      "outputs": [
        {
          "output_type": "execute_result",
          "data": {
            "text/html": [
              "<div>\n",
              "<style scoped>\n",
              "    .dataframe tbody tr th:only-of-type {\n",
              "        vertical-align: middle;\n",
              "    }\n",
              "\n",
              "    .dataframe tbody tr th {\n",
              "        vertical-align: top;\n",
              "    }\n",
              "\n",
              "    .dataframe thead th {\n",
              "        text-align: right;\n",
              "    }\n",
              "</style>\n",
              "<table border=\"1\" class=\"dataframe\">\n",
              "  <thead>\n",
              "    <tr style=\"text-align: right;\">\n",
              "      <th></th>\n",
              "      <th>ID</th>\n",
              "      <th>Year_Birth</th>\n",
              "      <th>Country</th>\n",
              "      <th>Education</th>\n",
              "      <th>Marital_Status</th>\n",
              "      <th>Income</th>\n",
              "      <th>Kidhome</th>\n",
              "      <th>Teenhome</th>\n",
              "      <th>Dt_Customer</th>\n",
              "      <th>Recency</th>\n",
              "      <th>MntWines</th>\n",
              "      <th>MntFruits</th>\n",
              "      <th>MntMeatProducts</th>\n",
              "      <th>MntFishProducts</th>\n",
              "      <th>MntSweetProducts</th>\n",
              "      <th>MntGoldProds</th>\n",
              "      <th>NumDealsPurchases</th>\n",
              "      <th>NumWebPurchases</th>\n",
              "      <th>NumStorePurchases</th>\n",
              "      <th>NumWebVisitsMonth</th>\n",
              "      <th>Complain</th>\n",
              "      <th>TotalMntProducts</th>\n",
              "      <th>TotalNumPurchases</th>\n",
              "      <th>DaysSinceJoined</th>\n",
              "      <th>VIP</th>\n",
              "    </tr>\n",
              "  </thead>\n",
              "  <tbody>\n",
              "    <tr>\n",
              "      <th>0</th>\n",
              "      <td>1826</td>\n",
              "      <td>1970</td>\n",
              "      <td>SP</td>\n",
              "      <td>Graduation</td>\n",
              "      <td>Divorced</td>\n",
              "      <td>$84,835.00</td>\n",
              "      <td>0</td>\n",
              "      <td>0</td>\n",
              "      <td>2014-06-16</td>\n",
              "      <td>0</td>\n",
              "      <td>189</td>\n",
              "      <td>104</td>\n",
              "      <td>379</td>\n",
              "      <td>111</td>\n",
              "      <td>189</td>\n",
              "      <td>218</td>\n",
              "      <td>1</td>\n",
              "      <td>4</td>\n",
              "      <td>6</td>\n",
              "      <td>1</td>\n",
              "      <td>0</td>\n",
              "      <td>1190</td>\n",
              "      <td>11</td>\n",
              "      <td>2608 days 05:46:20.531396</td>\n",
              "      <td>0</td>\n",
              "    </tr>\n",
              "    <tr>\n",
              "      <th>1</th>\n",
              "      <td>1</td>\n",
              "      <td>1961</td>\n",
              "      <td>CA</td>\n",
              "      <td>Graduation</td>\n",
              "      <td>Single</td>\n",
              "      <td>$57,091.00</td>\n",
              "      <td>0</td>\n",
              "      <td>0</td>\n",
              "      <td>2014-06-15</td>\n",
              "      <td>0</td>\n",
              "      <td>464</td>\n",
              "      <td>5</td>\n",
              "      <td>64</td>\n",
              "      <td>7</td>\n",
              "      <td>0</td>\n",
              "      <td>37</td>\n",
              "      <td>1</td>\n",
              "      <td>7</td>\n",
              "      <td>7</td>\n",
              "      <td>5</td>\n",
              "      <td>0</td>\n",
              "      <td>577</td>\n",
              "      <td>15</td>\n",
              "      <td>2609 days 05:46:20.531396</td>\n",
              "      <td>0</td>\n",
              "    </tr>\n",
              "    <tr>\n",
              "      <th>2</th>\n",
              "      <td>10476</td>\n",
              "      <td>1958</td>\n",
              "      <td>US</td>\n",
              "      <td>Graduation</td>\n",
              "      <td>Married</td>\n",
              "      <td>$67,267.00</td>\n",
              "      <td>0</td>\n",
              "      <td>1</td>\n",
              "      <td>2014-05-13</td>\n",
              "      <td>0</td>\n",
              "      <td>134</td>\n",
              "      <td>11</td>\n",
              "      <td>59</td>\n",
              "      <td>15</td>\n",
              "      <td>2</td>\n",
              "      <td>30</td>\n",
              "      <td>1</td>\n",
              "      <td>3</td>\n",
              "      <td>5</td>\n",
              "      <td>2</td>\n",
              "      <td>0</td>\n",
              "      <td>251</td>\n",
              "      <td>9</td>\n",
              "      <td>2642 days 05:46:20.531396</td>\n",
              "      <td>0</td>\n",
              "    </tr>\n",
              "    <tr>\n",
              "      <th>3</th>\n",
              "      <td>1386</td>\n",
              "      <td>1967</td>\n",
              "      <td>AUS</td>\n",
              "      <td>Graduation</td>\n",
              "      <td>Together</td>\n",
              "      <td>$32,474.00</td>\n",
              "      <td>1</td>\n",
              "      <td>1</td>\n",
              "      <td>2014-05-11</td>\n",
              "      <td>0</td>\n",
              "      <td>10</td>\n",
              "      <td>0</td>\n",
              "      <td>1</td>\n",
              "      <td>0</td>\n",
              "      <td>0</td>\n",
              "      <td>0</td>\n",
              "      <td>1</td>\n",
              "      <td>1</td>\n",
              "      <td>2</td>\n",
              "      <td>7</td>\n",
              "      <td>0</td>\n",
              "      <td>11</td>\n",
              "      <td>4</td>\n",
              "      <td>2644 days 05:46:20.531396</td>\n",
              "      <td>0</td>\n",
              "    </tr>\n",
              "    <tr>\n",
              "      <th>4</th>\n",
              "      <td>5371</td>\n",
              "      <td>1989</td>\n",
              "      <td>SP</td>\n",
              "      <td>Graduation</td>\n",
              "      <td>Single</td>\n",
              "      <td>$21,474.00</td>\n",
              "      <td>1</td>\n",
              "      <td>0</td>\n",
              "      <td>2014-04-08</td>\n",
              "      <td>0</td>\n",
              "      <td>6</td>\n",
              "      <td>16</td>\n",
              "      <td>24</td>\n",
              "      <td>11</td>\n",
              "      <td>0</td>\n",
              "      <td>34</td>\n",
              "      <td>2</td>\n",
              "      <td>3</td>\n",
              "      <td>2</td>\n",
              "      <td>7</td>\n",
              "      <td>0</td>\n",
              "      <td>91</td>\n",
              "      <td>7</td>\n",
              "      <td>2677 days 05:46:20.531396</td>\n",
              "      <td>0</td>\n",
              "    </tr>\n",
              "  </tbody>\n",
              "</table>\n",
              "</div>"
            ],
            "text/plain": [
              "      ID  Year_Birth Country  ... TotalNumPurchases           DaysSinceJoined VIP\n",
              "0   1826        1970      SP  ...                11 2608 days 05:46:20.531396   0\n",
              "1      1        1961      CA  ...                15 2609 days 05:46:20.531396   0\n",
              "2  10476        1958      US  ...                 9 2642 days 05:46:20.531396   0\n",
              "3   1386        1967     AUS  ...                 4 2644 days 05:46:20.531396   0\n",
              "4   5371        1989      SP  ...                 7 2677 days 05:46:20.531396   0\n",
              "\n",
              "[5 rows x 25 columns]"
            ]
          },
          "metadata": {
            "tags": []
          },
          "execution_count": 40
        }
      ]
    },
    {
      "cell_type": "code",
      "metadata": {
        "id": "z6KgzQmZzWck"
      },
      "source": [
        "# 내가 조건 찾아서 한 방식 reference가 더 명료하지만 아래 방법은 나중에 써먹자.\n",
        "\n",
        "'''\n",
        "import numpy as np\n",
        "\n",
        "conditions = [(df[\"TotalMntProducts\"] >= 2000) & (df['DaysSinceJoined'] >= 1825)]\n",
        "df['VIP'] = np.select(conditions, '1', default='0')\n",
        "'''"
      ],
      "id": "z6KgzQmZzWck",
      "execution_count": null,
      "outputs": []
    },
    {
      "cell_type": "code",
      "metadata": {
        "colab": {
          "base_uri": "https://localhost:8080/",
          "height": 224
        },
        "id": "_uT2b6lQ50j4",
        "outputId": "a2fb6a28-2722-4379-c1a4-747a9d9e4993"
      },
      "source": [
        "df[(df['VIP'] =='1')].head()"
      ],
      "id": "_uT2b6lQ50j4",
      "execution_count": null,
      "outputs": [
        {
          "output_type": "execute_result",
          "data": {
            "text/html": [
              "<div>\n",
              "<style scoped>\n",
              "    .dataframe tbody tr th:only-of-type {\n",
              "        vertical-align: middle;\n",
              "    }\n",
              "\n",
              "    .dataframe tbody tr th {\n",
              "        vertical-align: top;\n",
              "    }\n",
              "\n",
              "    .dataframe thead th {\n",
              "        text-align: right;\n",
              "    }\n",
              "</style>\n",
              "<table border=\"1\" class=\"dataframe\">\n",
              "  <thead>\n",
              "    <tr style=\"text-align: right;\">\n",
              "      <th></th>\n",
              "      <th>ID</th>\n",
              "      <th>Year_Birth</th>\n",
              "      <th>Country</th>\n",
              "      <th>Education</th>\n",
              "      <th>Marital_Status</th>\n",
              "      <th>Income</th>\n",
              "      <th>Kidhome</th>\n",
              "      <th>Teenhome</th>\n",
              "      <th>Dt_Customer</th>\n",
              "      <th>Recency</th>\n",
              "      <th>MntWines</th>\n",
              "      <th>MntFruits</th>\n",
              "      <th>MntMeatProducts</th>\n",
              "      <th>MntFishProducts</th>\n",
              "      <th>MntSweetProducts</th>\n",
              "      <th>MntGoldProds</th>\n",
              "      <th>NumDealsPurchases</th>\n",
              "      <th>NumWebPurchases</th>\n",
              "      <th>NumStorePurchases</th>\n",
              "      <th>NumWebVisitsMonth</th>\n",
              "      <th>Complain</th>\n",
              "      <th>TotalMntProducts</th>\n",
              "      <th>TotalNumPurchases</th>\n",
              "      <th>DaysSinceJoined</th>\n",
              "      <th>VIP</th>\n",
              "    </tr>\n",
              "  </thead>\n",
              "  <tbody>\n",
              "    <tr>\n",
              "      <th>70</th>\n",
              "      <td>1772</td>\n",
              "      <td>1975</td>\n",
              "      <td>CA</td>\n",
              "      <td>PhD</td>\n",
              "      <td>Married</td>\n",
              "      <td>$79,174.00</td>\n",
              "      <td>0</td>\n",
              "      <td>0</td>\n",
              "      <td>2013-01-11</td>\n",
              "      <td>2</td>\n",
              "      <td>1074</td>\n",
              "      <td>37</td>\n",
              "      <td>518</td>\n",
              "      <td>193</td>\n",
              "      <td>92</td>\n",
              "      <td>129</td>\n",
              "      <td>1</td>\n",
              "      <td>5</td>\n",
              "      <td>7</td>\n",
              "      <td>2</td>\n",
              "      <td>0</td>\n",
              "      <td>2043</td>\n",
              "      <td>12</td>\n",
              "      <td>3113</td>\n",
              "      <td>1</td>\n",
              "    </tr>\n",
              "    <tr>\n",
              "      <th>77</th>\n",
              "      <td>7919</td>\n",
              "      <td>1976</td>\n",
              "      <td>SP</td>\n",
              "      <td>PhD</td>\n",
              "      <td>Together</td>\n",
              "      <td>$72,335.00</td>\n",
              "      <td>0</td>\n",
              "      <td>0</td>\n",
              "      <td>2012-08-13</td>\n",
              "      <td>2</td>\n",
              "      <td>1285</td>\n",
              "      <td>105</td>\n",
              "      <td>653</td>\n",
              "      <td>28</td>\n",
              "      <td>21</td>\n",
              "      <td>0</td>\n",
              "      <td>1</td>\n",
              "      <td>10</td>\n",
              "      <td>8</td>\n",
              "      <td>8</td>\n",
              "      <td>0</td>\n",
              "      <td>2092</td>\n",
              "      <td>18</td>\n",
              "      <td>3264</td>\n",
              "      <td>1</td>\n",
              "    </tr>\n",
              "    <tr>\n",
              "      <th>283</th>\n",
              "      <td>3403</td>\n",
              "      <td>1958</td>\n",
              "      <td>SP</td>\n",
              "      <td>PhD</td>\n",
              "      <td>Together</td>\n",
              "      <td>$78,952.00</td>\n",
              "      <td>0</td>\n",
              "      <td>1</td>\n",
              "      <td>2012-09-24</td>\n",
              "      <td>11</td>\n",
              "      <td>1170</td>\n",
              "      <td>19</td>\n",
              "      <td>594</td>\n",
              "      <td>99</td>\n",
              "      <td>76</td>\n",
              "      <td>134</td>\n",
              "      <td>2</td>\n",
              "      <td>2</td>\n",
              "      <td>12</td>\n",
              "      <td>6</td>\n",
              "      <td>0</td>\n",
              "      <td>2092</td>\n",
              "      <td>14</td>\n",
              "      <td>3222</td>\n",
              "      <td>1</td>\n",
              "    </tr>\n",
              "    <tr>\n",
              "      <th>335</th>\n",
              "      <td>3698</td>\n",
              "      <td>1983</td>\n",
              "      <td>SP</td>\n",
              "      <td>Graduation</td>\n",
              "      <td>Together</td>\n",
              "      <td>$78,687.00</td>\n",
              "      <td>0</td>\n",
              "      <td>0</td>\n",
              "      <td>2012-08-09</td>\n",
              "      <td>13</td>\n",
              "      <td>817</td>\n",
              "      <td>185</td>\n",
              "      <td>687</td>\n",
              "      <td>145</td>\n",
              "      <td>55</td>\n",
              "      <td>241</td>\n",
              "      <td>1</td>\n",
              "      <td>4</td>\n",
              "      <td>8</td>\n",
              "      <td>2</td>\n",
              "      <td>0</td>\n",
              "      <td>2130</td>\n",
              "      <td>12</td>\n",
              "      <td>3268</td>\n",
              "      <td>1</td>\n",
              "    </tr>\n",
              "    <tr>\n",
              "      <th>376</th>\n",
              "      <td>10133</td>\n",
              "      <td>1970</td>\n",
              "      <td>CA</td>\n",
              "      <td>Graduation</td>\n",
              "      <td>Single</td>\n",
              "      <td>$93,790.00</td>\n",
              "      <td>0</td>\n",
              "      <td>0</td>\n",
              "      <td>2014-02-12</td>\n",
              "      <td>16</td>\n",
              "      <td>1302</td>\n",
              "      <td>68</td>\n",
              "      <td>731</td>\n",
              "      <td>89</td>\n",
              "      <td>114</td>\n",
              "      <td>45</td>\n",
              "      <td>0</td>\n",
              "      <td>6</td>\n",
              "      <td>12</td>\n",
              "      <td>2</td>\n",
              "      <td>0</td>\n",
              "      <td>2349</td>\n",
              "      <td>18</td>\n",
              "      <td>2716</td>\n",
              "      <td>1</td>\n",
              "    </tr>\n",
              "  </tbody>\n",
              "</table>\n",
              "</div>"
            ],
            "text/plain": [
              "        ID  Year_Birth Country  ... TotalNumPurchases DaysSinceJoined VIP\n",
              "70    1772        1975      CA  ...                12            3113   1\n",
              "77    7919        1976      SP  ...                18            3264   1\n",
              "283   3403        1958      SP  ...                14            3222   1\n",
              "335   3698        1983      SP  ...                12            3268   1\n",
              "376  10133        1970      CA  ...                18            2716   1\n",
              "\n",
              "[5 rows x 25 columns]"
            ]
          },
          "metadata": {
            "tags": []
          },
          "execution_count": 15
        }
      ]
    },
    {
      "cell_type": "markdown",
      "metadata": {
        "id": "4dfef8dd-c8df-40d7-b3af-80b8ccfaf9ae"
      },
      "source": [
        "## Part 2 - 가설 검정\n",
        "\n",
        "### Hypothesis Test    \n",
        "   - 수치형 (numerical/continuous) 칼럼이 어떤 차이를 보이는지 t-test를 통해 가설을 세우고 검증하세요. (최소 2개)\n",
        "   - 범주형 (categorical) 칼럼이 어떤 차이를 보이는지 $\\chi^2-test$를 통해 가설을 세우고 검증하세요. (최소 2개)  \n",
        "  **Hint:** categorical feature 간의 \"cross tab\"을 생성하여 탐색해 보세요 (aka [contingency tables](https://en.wikipedia.org/wiki/Contingency_table)). 그리고 $\\chi^2 test$를 적용해 보세요. [pandas.crosstab](http://pandas.pydata.org/pandas-docs/stable/reference/api/pandas.crosstab.html)을 사용하면 contingency table 을 생성할 수 있습니다. 그리고 [scipy.stats.chi2_contingency](https://docs.scipy.org/doc/scipy/reference/generated/scipy.stats.chi2_contingency.html)를 사용하면 $\\chi^2$ statistics 를 계산할 수 있습니다.    "
      ],
      "id": "4dfef8dd-c8df-40d7-b3af-80b8ccfaf9ae"
    },
    {
      "cell_type": "code",
      "metadata": {
        "colab": {
          "base_uri": "https://localhost:8080/"
        },
        "id": "698873e9-52cd-4451-8385-0e6239d4100d",
        "outputId": "e9aec358-7db0-4af0-ea57-0cf8a428cebc"
      },
      "source": [
        "# t-test 1\n",
        "from scipy import stats\n",
        "\n",
        "'''\n",
        "H0(귀무가설) = 웹 방문 횟수와 웹 구매 횟수 평균은 유사하다.\n",
        "H1(대립가설) = 웹 방문 횟수와 웹 구매 횟수 평균은 다르다\n",
        "'''\n",
        "nwpur = df['NumWebPurchases']\n",
        "nwvis = df['NumWebVisitsMonth']\n",
        "\n",
        "stats.ttest_ind(nwpur, nwvis) # p-value가 0.05 이하이므로 귀무가설을 기각한다. "
      ],
      "id": "698873e9-52cd-4451-8385-0e6239d4100d",
      "execution_count": 43,
      "outputs": [
        {
          "output_type": "execute_result",
          "data": {
            "text/plain": [
              "Ttest_indResult(statistic=-15.868628969476251, pvalue=3.3783031233520634e-55)"
            ]
          },
          "metadata": {
            "tags": []
          },
          "execution_count": 43
        }
      ]
    },
    {
      "cell_type": "code",
      "metadata": {
        "id": "zILs4cDfA4O8",
        "colab": {
          "base_uri": "https://localhost:8080/"
        },
        "outputId": "f7360fa8-b364-4c96-972e-a8a33dbcd932"
      },
      "source": [
        "# t-test2\n",
        "\n",
        "'''\n",
        "H0: vip 회원과 일반 회원의 평균 구매금액은 같다. \n",
        "H1: vip 회원과 일반 회의의 구매금액은 차이가 있다. \n",
        "'''\n",
        "\n",
        "dfv = df[(df['VIP'] == 1)] #dfv: VIP 회원\n",
        "dfv = dfv['TotalMntProducts']\n",
        "\n",
        "dfg = df[(df[\"VIP\"] == 0)] #일반회원\n",
        "dfg = dfg['TotalMntProducts'] \n",
        "\n",
        "stats.ttest_ind(dfv, dfg) # p-value가 0.05 이하이므로 귀무가설을 기각한다. "
      ],
      "id": "zILs4cDfA4O8",
      "execution_count": 52,
      "outputs": [
        {
          "output_type": "execute_result",
          "data": {
            "text/plain": [
              "Ttest_indResult(statistic=20.20873600956494, pvalue=1.7588803129345406e-83)"
            ]
          },
          "metadata": {
            "tags": []
          },
          "execution_count": 52
        }
      ]
    },
    {
      "cell_type": "code",
      "metadata": {
        "colab": {
          "base_uri": "https://localhost:8080/"
        },
        "id": "ESTlnxlIVzHH",
        "outputId": "7aa9fc91-07b5-4d56-ae7f-cb4ac98be695"
      },
      "source": [
        "# chi-square 1번\n",
        "\n",
        "from scipy.stats import ttest_ind, chi2_contingency\n",
        "\n",
        " \n",
        "'''\n",
        "H0: 국가와 vip여부는 독립적이다. 연관이 없다.\n",
        "H1: 국가와 vip 여부는 서로 연관성이 있다. \n",
        "'''\n",
        "\n",
        "chi2_contingency(pd.crosstab(df[\"VIP\"], df['Country'])) # p-value가 0.05보다 커 귀무가설을 기각할 수 없다. "
      ],
      "id": "ESTlnxlIVzHH",
      "execution_count": 54,
      "outputs": [
        {
          "output_type": "execute_result",
          "data": {
            "text/plain": [
              "(5.638150226756089,\n",
              " 0.5825768447356177,\n",
              " 7,\n",
              " array([[1.43683213e+02, 2.59998195e+02, 1.13382671e+02, 1.43683213e+02,\n",
              "         2.93231047e+00, 3.29396209e+02, 1.06833845e+03, 1.04585740e+02],\n",
              "        [3.31678700e+00, 6.00180505e+00, 2.61732852e+00, 3.31678700e+00,\n",
              "         6.76895307e-02, 7.60379061e+00, 2.46615523e+01, 2.41425993e+00]]))"
            ]
          },
          "metadata": {
            "tags": []
          },
          "execution_count": 54
        }
      ]
    },
    {
      "cell_type": "code",
      "metadata": {
        "colab": {
          "base_uri": "https://localhost:8080/"
        },
        "id": "QzFUN9P7W8rk",
        "outputId": "5a282936-0c41-447e-b166-6fe175ca82d0"
      },
      "source": [
        "# Chi-square 2번\n",
        "\n",
        "'''\n",
        "H0: 교육 수준과 혼인 여부는 관련성이 없다. \n",
        "H1: 교육 수준과 혼연 여부는 관련성이 있다. \n",
        "'''\n",
        "\n",
        "chi2_contingency(pd.crosstab(df[\"Education\"], df['Marital_Status'])) # p-value가 0.05보다 커 귀무가설을 기각할 수 없다. "
      ],
      "id": "QzFUN9P7W8rk",
      "execution_count": 55,
      "outputs": [
        {
          "output_type": "execute_result",
          "data": {
            "text/plain": [
              "(26.77652169741452,\n",
              " 0.5304403824967144,\n",
              " 28,\n",
              " array([[1.80505415e-01, 2.70758123e-01, 2.09386282e+01, 7.73465704e+01,\n",
              "         4.25090253e+01, 5.17148014e+01, 6.85920578e+00, 1.80505415e-01],\n",
              "        [4.87364621e-02, 7.31046931e-02, 5.65342960e+00, 2.08835740e+01,\n",
              "         1.14774368e+01, 1.39629964e+01, 1.85198556e+00, 4.87364621e-02],\n",
              "        [1.00722022e+00, 1.51083032e+00, 1.16837545e+02, 4.31593863e+02,\n",
              "         2.37200361e+02, 2.88568592e+02, 3.82743682e+01, 1.00722022e+00],\n",
              "        [3.29422383e-01, 4.94133574e-01, 3.82129964e+01, 1.41157491e+02,\n",
              "         7.75789711e+01, 9.43795126e+01, 1.25180505e+01, 3.29422383e-01],\n",
              "        [4.34115523e-01, 6.51173285e-01, 5.03574007e+01, 1.86018502e+02,\n",
              "         1.02234206e+02, 1.24374097e+02, 1.64963899e+01, 4.34115523e-01]]))"
            ]
          },
          "metadata": {
            "tags": []
          },
          "execution_count": 55
        }
      ]
    },
    {
      "cell_type": "markdown",
      "metadata": {
        "id": "fe2d3868-0826-4f59-bba3-8219abb422d9"
      },
      "source": [
        "## Part 3 - Analysis and Interpretation\n",
        "\n",
        "자, 위 파트들에서 우리는 데이터들을 잘 관찰했습니다. 다음의 질문들에 텍스트로 답변하십시오.  \n",
        "\n",
        "1) 여러분들이 수행한 두 개 이상의 t-test 들을 해석하고 설명해 보세요.\n",
        "2) 여러분들이 수행한 두 개 이상의 $\\chi^2$ test 들을 해석하고 설명해 보세요."
      ],
      "id": "fe2d3868-0826-4f59-bba3-8219abb422d9"
    },
    {
      "cell_type": "markdown",
      "metadata": {
        "id": "55cec2cd-3e51-408c-adf3-b6d8cfb1b9c1"
      },
      "source": [
        "** `답안 작성은 이 곳에 하십시오` **\n",
        "\n",
        "## t-test\n",
        "### t-test 1번\n",
        "\n",
        "H0(귀무가설) = 웹 방문 횟수와 웹 구매 횟수 평균은 유사하다.\n",
        "H1(대립가설) = 웹 방문 횟수와 웹 구매 횟수 평균은 다르다\n",
        "는 p-value가 0.05보다 작으므로 귀무가설을 기각할 수 있다. 즉 웹 방문 평균횟수와 구매 평균 횟수는 통계적으로 유의미한 차이가 있다고 볼 수 있다. \n",
        "\n",
        "### t-test 2번\n",
        "H0: vip 회원과 일반 회원의 평균 구매금액은 같다. \n",
        "H1: vip 회원과 일반 회의의 구매금액은 차이가 있다. \n",
        "는 p-value가 0.05보다 작다. 따라서 귀무가설을 기각하며, vip회원과 일반 회원의 구매금액의 평균은 통계적으로 유의미한 차이가 있다고 볼 수 있다. \n",
        "\n",
        "\n",
        "## 카이제곱\n",
        "### 카에제곱 1번\n",
        "\n",
        "H0: 국가와 vip여부는 독립적이다. 연관이 없다.\n",
        "H1: 국가와 vip 여부는 서로 연관성이 있다.\n",
        "\n",
        "P-value가 0.05 보다 크므로 귀무가설을 기가하지 못한다. 따라서 국가와 vip여부는 서로 연관이 없다고 결론 지을 수 있다. \n",
        "\n",
        "### 카이제곱 2번\n",
        "\n",
        "H0: 교육 수준과 혼인 여부는 관련성이 없다. \n",
        "H1: 교육 수준과 혼연 여부는 관련성이 있다. \n",
        "\n",
        "p-value가 0.05보다 크므로 귀무가설을 기각하지 못하며 교육수준과 혼인여부는 서로 연관이 없다고 할 수 있다. \n"
      ],
      "id": "55cec2cd-3e51-408c-adf3-b6d8cfb1b9c1"
    },
    {
      "cell_type": "markdown",
      "metadata": {
        "id": "ef1670f6-ecee-4ac4-ba5c-8c0245ce9542"
      },
      "source": [
        "# Advanced Goals: \n",
        "> SC 에서 3점을 얻고 싶으시다면 아래의 문제를 모두 풀어주세요. 다만 2점을 얻었다면 충분합니다. 시간과 여유가 있는 분들만 도전해 보시기 바랍니다. \n",
        "\n",
        "## Part 1: \n",
        "\n",
        "여러분들의 dataframe column들이 적절한 data type을 가지도록 작업해 보세요.   \n",
        "**Hint:** 특정 column datatype 이 float 이나 integer 로 되어있음에도 불구하고 \"object\" 라고 되어 있는 경우가 있습니다. 이 경우, `pd.to_numeric()`, `pd.to_datetime()` 과 같은 방법으로 칼럼들을 변환해 보세요. \n",
        "주석을 통해 읽는 이가 쉽게 읽을 수 있고, 전체 내용을 쉽게 따라갈 수 있다면 3점을 얻을 수 있습니다. \n",
        "\n",
        "## Part 2:\n",
        "\n",
        "데이터 셋의 적절한 column들의 조합으로 $t-test$와 $\\chi^2 test$가 쉽게 수행될 수 있도록 함수를 작성해 보세요.\n",
        "**데이터 타입에 알맞은 가설검정이 실행되야 하는 것을 잊지 마세요**\n",
        "\n",
        "## Part 3: \n",
        "평균 추정치에 대한 신뢰 구간(confidence interval)을 계산하고 결과를 작성하세요 (최소 두 개 선택). 계산한 추정치가 얼마나 정확한지 시각적으로 확인할 수 있도록 matplotlib, seaborn 등의 시각화 라이브러리를 활용해서 나타내세요"
      ],
      "id": "ef1670f6-ecee-4ac4-ba5c-8c0245ce9542"
    },
    {
      "cell_type": "code",
      "metadata": {
        "id": "c72c7222-9b0c-4ecf-bdcd-e86d6fdb2d0c"
      },
      "source": [
        "# 각 파트가 잘 구분되어질 수 있도록 해 주세요"
      ],
      "id": "c72c7222-9b0c-4ecf-bdcd-e86d6fdb2d0c",
      "execution_count": null,
      "outputs": []
    },
    {
      "cell_type": "code",
      "metadata": {
        "id": "9c36d746-4327-4bea-91c4-bb74f29bb5ba"
      },
      "source": [
        "### 이곳에 Part 1 답안을 작성해주시기 바랍니다"
      ],
      "id": "9c36d746-4327-4bea-91c4-bb74f29bb5ba",
      "execution_count": null,
      "outputs": []
    },
    {
      "cell_type": "code",
      "metadata": {
        "id": "b991c6c7-d850-4e48-a301-9204573e112d"
      },
      "source": [
        "### 이곳에 Part 2 답안을 작성해주시기 바랍니다"
      ],
      "id": "b991c6c7-d850-4e48-a301-9204573e112d",
      "execution_count": null,
      "outputs": []
    },
    {
      "cell_type": "code",
      "metadata": {
        "id": "a73ac1bb-cefe-46e4-a396-ba0622085f79"
      },
      "source": [
        "### 이곳에 Part 3 답안을 작성해주시기 바랍니다"
      ],
      "id": "a73ac1bb-cefe-46e4-a396-ba0622085f79",
      "execution_count": null,
      "outputs": []
    }
  ]
}